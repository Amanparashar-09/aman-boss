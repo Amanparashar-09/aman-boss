{
 "cells": [
  {
   "cell_type": "code",
   "execution_count": null,
   "metadata": {},
   "outputs": [],
   "source": [
    "no_of_class = int(input())\n",
    "no_of_class_attended = int(input())\n",
    "per = no_of_class_attended/no_of_class*100\n",
    "if(per >= 75):\n",
    "    print(\"student is allowed\")\n",
    "else:\n",
    "    med= input(\"Have you any medical issue\")\n",
    "    if(med == 'y'):\n",
    "        print(\"student is allowed\")\n",
    "    else:\n",
    "        print('student is not allowed')"
   ]
  },
  {
   "cell_type": "code",
   "execution_count": null,
   "metadata": {},
   "outputs": [],
   "source": [
    "i = 1\n",
    "while(i<=10):\n",
    "    print (i)\n",
    "    i  =   i+1\n",
    "    \n",
    "\n",
    "    "
   ]
  },
  {
   "cell_type": "code",
   "execution_count": null,
   "metadata": {},
   "outputs": [],
   "source": [
    "n = int(input())\n",
    "p = int(input())\n",
    "\n",
    "for i in range(n, p+1):\n",
    "    print (i)\n",
    "    \n",
    "    "
   ]
  },
  {
   "cell_type": "code",
   "execution_count": null,
   "metadata": {},
   "outputs": [],
   "source": [
    "#for printing reverse n to 1 no's in for loop\n",
    "n = int(input())\n",
    "for i in range(n, 0,-1):\n",
    "    print(i)"
   ]
  },
  {
   "cell_type": "code",
   "execution_count": null,
   "metadata": {},
   "outputs": [],
   "source": [
    "#for printing reverse n to 0 no's in while loop\n",
    "i = n = int(input(\"enter the number\"))\n",
    "while(i>=0):\n",
    "        print(i)\n",
    "        i = i-1 "
   ]
  },
  {
   "cell_type": "code",
   "execution_count": null,
   "metadata": {},
   "outputs": [],
   "source": [
    "#for printing 1 to n no.s\n",
    "n = int(input())\n",
    "for i in range(1,n+1):\n",
    "    print (i)"
   ]
  },
  {
   "cell_type": "code",
   "execution_count": null,
   "metadata": {},
   "outputs": [],
   "source": [
    "#for sum of 1 to n\n",
    "sum = 0\n",
    "n = int(input())\n",
    "for num in range(1, n+1):\n",
    "    sum = sum + num\n",
    "print(\"Sum:\",sum)"
   ]
  },
  {
   "cell_type": "code",
   "execution_count": null,
   "metadata": {},
   "outputs": [],
   "source": [
    "#for product of n no's\n",
    "product = 1\n",
    "n = int(input())\n",
    "for i in range(1, n+1):\n",
    "    product *= i\n",
    "print(product)\n"
   ]
  },
  {
   "cell_type": "code",
   "execution_count": null,
   "metadata": {},
   "outputs": [],
   "source": [
    "#for product of even no's\n",
    "product = 1\n",
    "n = int(input())\n",
    "for i in range(2, n+1, 2):\n",
    "    product *= i\n",
    "print(product)"
   ]
  },
  {
   "cell_type": "code",
   "execution_count": null,
   "metadata": {},
   "outputs": [],
   "source": [
    "for i in range(3,31,3):\n",
    "    print(i)"
   ]
  },
  {
   "cell_type": "code",
   "execution_count": null,
   "metadata": {},
   "outputs": [],
   "source": [
    "i=3\n",
    "while(i<=30):\n",
    "    print(i)\n",
    "    i=i+3"
   ]
  },
  {
   "cell_type": "code",
   "execution_count": null,
   "metadata": {},
   "outputs": [],
   "source": [
    "n = int(input(\"enter the value :\"))\n",
    "a = 0\n",
    "c = 1\n",
    "for i in range(n):\n",
    "    b = int(input(\"enter the no :\"))\n",
    "    a+= b\n",
    "    c*=b\n",
    "print(a/n)\n",
    "print(c)"
   ]
  },
  {
   "cell_type": "code",
   "execution_count": null,
   "metadata": {},
   "outputs": [],
   "source": [
    "n = int (input())\n",
    "while(n>0):\n",
    "    a =n%10\n",
    "    n=n//10\n",
    "    print(a)"
   ]
  },
  {
   "cell_type": "code",
   "execution_count": null,
   "metadata": {},
   "outputs": [],
   "source": [
    "n = int (input())\n",
    "b=n\n",
    "no =0\n",
    "while(n>0):\n",
    "    a =n%10\n",
    "    \n",
    "    no=(no*10)+a\n",
    "    n=n//10\n",
    "print(\"no. is greater \" if b<no else \"no. is not greater\")"
   ]
  },
  {
   "cell_type": "code",
   "execution_count": null,
   "metadata": {},
   "outputs": [],
   "source": [
    "n = int (input())\n",
    "c=0\n",
    "for i in range(2, n):\n",
    "    if(n%i==0):\n",
    "        c+=1\n",
    "print(\"no. is prime \" if c==2 else \"no. is not prime\")"
   ]
  },
  {
   "cell_type": "code",
   "execution_count": null,
   "metadata": {},
   "outputs": [],
   "source": [
    "n = int(input(\"number : \"))\n",
    "Aman = True\n",
    "for i in range(2,n):\n",
    "    if (n%i == 0):\n",
    "        print(\"not a prime no.\")\n",
    "        Aman = False\n",
    "        break\n",
    "if (Aman == True):\n",
    "    print(\"prime no.\")    "
   ]
  },
  {
   "cell_type": "code",
   "execution_count": null,
   "metadata": {},
   "outputs": [],
   "source": [
    "n = int(input())\n",
    "for i in range(1, n+1):\n",
    "    num =int(input())\n",
    "    j = 1\n",
    "    odd = 0\n",
    "    even = 0\n",
    "    while(num>0):\n",
    "        if(num%10)%2 == 0:\n",
    "            even += num%10\n",
    "        else:\n",
    "            odd += num%10\n",
    "        \n",
    "        num //= 10\n",
    "        j += 1\n",
    "    if(even %4==0 or odd%3 == 0):\n",
    "        print(\"Yes\")\n",
    "    else:\n",
    "        print(\"No\")"
   ]
  },
  {
   "cell_type": "code",
   "execution_count": null,
   "metadata": {},
   "outputs": [],
   "source": [
    "n = 5\n",
    "for i in range(n):\n",
    "    for j in range(1,n+1):\n",
    "        if(j <= n-i):\n",
    "            print(\" \",end='')\n",
    "        else:\n",
    "            print(\"*\",end='')\n",
    "    print()"
   ]
  },
  {
   "cell_type": "code",
   "execution_count": null,
   "metadata": {},
   "outputs": [],
   "source": [
    "rows = 5\n",
    "for i in range(1, rows+1):\n",
    "    for j in range(i):\n",
    "        print('*', end='')\n",
    "    for j in range(rows-i):\n",
    "        print(' ', end='')\n",
    "    for j in range(rows-i):\n",
    "        print(' ', end='')\n",
    "    for j in range(i):\n",
    "        print('*', end='')\n",
    "\n",
    "    print()"
   ]
  },
  {
   "cell_type": "code",
   "execution_count": null,
   "metadata": {},
   "outputs": [],
   "source": [
    "n = input()\n",
    "x = n.replace('0' , '5')\n",
    "print(x)"
   ]
  },
  {
   "cell_type": "code",
   "execution_count": null,
   "metadata": {},
   "outputs": [],
   "source": [
    "n=int(input())\n",
    "c=0\n",
    "s=0\n",
    "while (n>0):\n",
    "    r=n%10\n",
    "    s = s + r * pow(2,c)\n",
    "    n=n//10\n",
    "    c+=1\n",
    "print(c)\n",
    "print(s)\n",
    "    \n",
    "\n"
   ]
  },
  {
   "cell_type": "code",
   "execution_count": null,
   "metadata": {},
   "outputs": [],
   "source": [
    "n = int(input())\n",
    "print(bin(n))"
   ]
  },
  {
   "cell_type": "code",
   "execution_count": null,
   "metadata": {},
   "outputs": [],
   "source": [
    "# For taking list from user \n",
    "l=[]\n",
    "n= int(input())\n",
    "for i in range(n):\n",
    "    x= int(input())\n",
    "    l.append(x)\n",
    "print(l)"
   ]
  },
  {
   "cell_type": "code",
   "execution_count": null,
   "metadata": {},
   "outputs": [],
   "source": [
    "# For taking list from user in one line \n",
    "n = list(map(int,input().split()))\n",
    "# For reversing method 1\n",
    "n.reverse()\n",
    "print(n)"
   ]
  },
  {
   "cell_type": "code",
   "execution_count": null,
   "metadata": {},
   "outputs": [],
   "source": [
    "# Get a list of numbers from the user\n",
    "user_input = input(\"Enter a list of numbers separated by spaces: \")\n",
    "user_list = list(map(int, user_input.split()))\n",
    "\n",
    "# Initialize variables to store the minimum and maximum values\n",
    "min_value = user_list[0]  # Assume the first element as the minimum\n",
    "max_value = user_list[0]  # Assume the first element as the maximum\n",
    "\n",
    "# Iterate through the list to find the minimum and maximum\n",
    "for num in user_list:\n",
    "    if num < min_value:\n",
    "        min_value = num\n",
    "    if num > max_value:\n",
    "        max_value = num\n",
    "print(user_list)\n",
    "print(\"Minimum value:\", min_value)\n",
    "print(\"Maximum value:\", max_value)\n"
   ]
  },
  {
   "cell_type": "code",
   "execution_count": null,
   "metadata": {},
   "outputs": [],
   "source": [
    "# Get a list of elements from the user\n",
    "user_input = input(\"Enter a list of elements separated by spaces: \")\n",
    "user_list = list(map(int, user_input.split()))\n",
    "\n",
    "# Initialize two empty lists for even and odd indexed elements\n",
    "even_indexed_elements = []\n",
    "odd_indexed_elements = []\n",
    "\n",
    "# Iterate through the list and separate elements by index\n",
    "for index, element in enumerate(user_list):\n",
    "    if index % 2 == 0:\n",
    "        even_indexed_elements.append(element)\n",
    "    else:\n",
    "        odd_indexed_elements.append(element)\n",
    "\n",
    "# Print the lists of even and odd indexed elements\n",
    "print(user_list)\n",
    "print(\"Elements at even indexes:\", even_indexed_elements)\n",
    "print(\"Elements at odd indexes:\", odd_indexed_elements)\n"
   ]
  },
  {
   "cell_type": "code",
   "execution_count": null,
   "metadata": {},
   "outputs": [],
   "source": [
    "def is_palindrome(input_list):\n",
    "    # Remove leading and trailing whitespaces from each element and convert to lowercase\n",
    "    cleaned_list = [element.strip().lower() for element in input_list]\n",
    "\n",
    "    # Join the elements into a single string\n",
    "    joined_str = ''.join(cleaned_list)\n",
    "\n",
    "    # Check if the joined string is the same when reversed\n",
    "    return joined_str == joined_str[::-1]\n",
    "\n",
    "# Get a list of elements from the user\n",
    "user_input = input(\"Enter a list of elements separated by spaces: \")\n",
    "user_list = user_input.split()\n",
    "print(user_list)\n",
    "if is_palindrome(user_list):\n",
    "    print(\"The list is a palindrome.\")\n",
    "else:\n",
    "    print(\"The list is not a palindrome.\")\n"
   ]
  },
  {
   "cell_type": "code",
   "execution_count": null,
   "metadata": {},
   "outputs": [],
   "source": [
    "# Get a list of elements from the user\n",
    "user_input = input(\"Enter a list of elements separated by spaces: \")\n",
    "user_list = user_input.split()\n",
    "\n",
    "# Initialize an empty list to store unique elements\n",
    "unique_list = []\n",
    "\n",
    "# Iterate through the user list and add unique elements to the new list\n",
    "for element in user_list:\n",
    "    if element not in unique_list:\n",
    "        unique_list.append(element)\n",
    "\n",
    "# Print the list with duplicates removed\n",
    "print(\"Previous List\",user_list)\n",
    "print(\"List with duplicates removed:\", unique_list)\n"
   ]
  },
  {
   "cell_type": "code",
   "execution_count": null,
   "metadata": {},
   "outputs": [],
   "source": [
    "move = [' ',' ',' ',' ',' ',' ',' ',' ',' ']\n",
    "st = f'''\n",
    "{move[0]}|{move[1]}|{move[2]}\n",
    "--------\n",
    "{move[3]}|{move[4]}|{move[5]}\n",
    "--------\n",
    "{move[6]}|{move[7]}|{move[8]}\n",
    "\n",
    "'''\n",
    "\n",
    "print(st)\n",
    "turn = '0'\n",
    "while 1:\n",
    "    player_in = int(input(f'(turn) turn Enter locatin 0-8: '))\n",
    "    if move[player_in] != ' ':\n",
    "        print('location already in use try again.')\n",
    "        continue\n",
    "    else:\n",
    "        move[player_in] = turn\n",
    "    print (f'''\n",
    "    {move[0]}|{move[1]}|{move[2]}\n",
    "    --------\n",
    "    {move[3]}|{move[4]}|{move[5]}\n",
    "    --------\n",
    "    {move[6]}|{move[7]}|{move[8]}''')\n",
    "    if move[0] == move[1] == move[2] != ' ':\n",
    "        print(move[0], 'Win')\n",
    "        break\n",
    "    if move[0] == move[3] == move[6] != ' ':\n",
    "        print(move[0], 'Win')\n",
    "        break\n",
    "    if move[0] == move[4] == move[8] != ' ':\n",
    "        print(move[0], 'Win')\n",
    "        break\n",
    "    if move[1] == move[4] == move[7] != ' ':\n",
    "        print(move[0], 'Win')\n",
    "        break\n",
    "    if move[3] == move[4] == move[5] != ' ':\n",
    "        print(move[0], 'Win')\n",
    "        break\n",
    "    if move[6] == move[7] == move[8] != ' ':\n",
    "        print(move[0], 'Win')\n",
    "        break\n",
    "    if move[2] == move[4] == move[6] != ' ':\n",
    "        print(move[0], 'Win')\n",
    "        break\n",
    "    if move[2] == move[5] == move[8] != ' ':\n",
    "        print(move[0], 'Win')\n",
    "        break\n",
    "    if ' ' not in move:\n",
    "        print('Match Tie')\n",
    "        break\n",
    "    turn = 'x' if turn == '0' else '0'\n",
    "    \n"
   ]
  }
 ],
 "metadata": {
  "kernelspec": {
   "display_name": "Python 3",
   "language": "python",
   "name": "python3"
  },
  "language_info": {
   "codemirror_mode": {
    "name": "ipython",
    "version": 3
   },
   "file_extension": ".py",
   "mimetype": "text/x-python",
   "name": "python",
   "nbconvert_exporter": "python",
   "pygments_lexer": "ipython3",
   "version": "3.11.5"
  },
  "orig_nbformat": 4
 },
 "nbformat": 4,
 "nbformat_minor": 2
}
